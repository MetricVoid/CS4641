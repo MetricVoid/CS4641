{
 "cells": [
  {
   "cell_type": "code",
   "execution_count": 12,
   "metadata": {},
   "outputs": [
    {
     "data": {
      "text/plain": [
       "array([[1, 2],\n",
       "       [2, 1]])"
      ]
     },
     "execution_count": 12,
     "metadata": {},
     "output_type": "execute_result"
    }
   ],
   "source": [
    "import numpy as np\n",
    "\n",
    "A=[[1,2],[2,1]]\n",
    "B=[[1,0],[0,1]]\n",
    "numpy.dot(A,B)"
   ]
  },
  {
   "cell_type": "code",
   "execution_count": 59,
   "metadata": {},
   "outputs": [
    {
     "data": {
      "text/plain": [
       "(2,)"
      ]
     },
     "execution_count": 59,
     "metadata": {},
     "output_type": "execute_result"
    }
   ],
   "source": [
    "X= [[9.056119148256076556e+00, 2.810437421607375060e-06],\n",
    "[5.931721486032732749e+00, 1.547763743735232622e-01],\n",
    "[7.446873984173755012e+00, 2.630792542087587345e-03],\n",
    "[6.595130598570815295e+00, 3.448084205902953586e-02],\n",
    "[6.992228907368113866e+00, 1.137068283647318587e-02],\n",
    "[1.873683781494602796e+00, 1.042868158986028498e-01]]\n",
    "Y= [2,1,0,3,2,1]\n",
    "theta_0=numpy.dot(numpy.dot(numpy.linalg.inv(numpy.dot(numpy.transpose(X),X)),numpy.transpose(X)),Y)\n",
    "theta_0.shape"
   ]
  },
  {
   "cell_type": "code",
   "execution_count": 14,
   "metadata": {},
   "outputs": [],
   "source": [
    "x = np.array([0, 1, 2, 3])\n",
    "\n",
    "y = np.array([-1, 0.2, 0.9, 2.1])"
   ]
  },
  {
   "cell_type": "code",
   "execution_count": 15,
   "metadata": {},
   "outputs": [],
   "source": [
    "A = np.vstack([x, np.ones(len(x))]).T"
   ]
  },
  {
   "cell_type": "code",
   "execution_count": 64,
   "metadata": {},
   "outputs": [
    {
     "data": {
      "text/plain": [
       "(2,)"
      ]
     },
     "execution_count": 64,
     "metadata": {},
     "output_type": "execute_result"
    }
   ],
   "source": [
    "theta=np.linalg.lstsq(A, y, rcond=None)[0]\n",
    "theta.shape"
   ]
  },
  {
   "cell_type": "code",
   "execution_count": 65,
   "metadata": {},
   "outputs": [
    {
     "data": {
      "text/plain": [
       "array([0.20996158, 2.29291189])"
      ]
     },
     "execution_count": 65,
     "metadata": {},
     "output_type": "execute_result"
    }
   ],
   "source": [
    "np.linalg.lstsq(X, Y, rcond=None)[0]"
   ]
  },
  {
   "cell_type": "code",
   "execution_count": 66,
   "metadata": {},
   "outputs": [
    {
     "name": "stderr",
     "output_type": "stream",
     "text": [
      "<ipython-input-66-003bf490843c>:1: FutureWarning: `rcond` parameter will change to the default of machine precision times ``max(M, N)`` where M and N are the input matrix dimensions.\n",
      "To use the future default and silence this warning we advise to pass `rcond=None`, to keep using the old, explicitly pass `rcond=-1`.\n",
      "  np.linalg.lstsq(X, Y)\n"
     ]
    },
    {
     "data": {
      "text/plain": [
       "(array([0.20996158, 2.29291189]),\n",
       " array([5.584569]),\n",
       " 2,\n",
       " array([16.38779949,  0.16862437]))"
      ]
     },
     "execution_count": 66,
     "metadata": {},
     "output_type": "execute_result"
    }
   ],
   "source": [
    "np.linalg.lstsq(X, Y)"
   ]
  },
  {
   "cell_type": "code",
   "execution_count": 67,
   "metadata": {},
   "outputs": [
    {
     "data": {
      "text/plain": [
       "array([ 1.  , -0.95])"
      ]
     },
     "execution_count": 67,
     "metadata": {},
     "output_type": "execute_result"
    }
   ],
   "source": [
    "data = numpy.loadtxt(\"./data/1D-exp-samp.txt\",delimiter=',')\n",
    "rows,cols=data.shape\n",
    "X_dim = cols\n",
    "Y_dim = 1\n",
    "x_1=data[:,:-1].reshape(-1,X_dim)\n",
    "y_1=data[:,-1].reshape(-1,Y_dim)\n",
    "theta\n"
   ]
  },
  {
   "cell_type": "code",
   "execution_count": 76,
   "metadata": {},
   "outputs": [
    {
     "data": {
      "text/plain": [
       "13.850486459833546"
      ]
     },
     "execution_count": 76,
     "metadata": {},
     "output_type": "execute_result"
    }
   ],
   "source": [
    "sum=0\n",
    "for i in range(len(X)):\n",
    "    sum=sum+(numpy.square(numpy.dot(numpy.transpose(X[i]),theta)-Y[i]))\n",
    "sum/(2*len(X))\n",
    "# numpy.dot(numpy.dot(numpy.linalg.inv(numpy.dot(numpy.transpose(x_1),x_1)),numpy.transpose(x_1)),y_1)"
   ]
  },
  {
   "cell_type": "code",
   "execution_count": 85,
   "metadata": {},
   "outputs": [
    {
     "name": "stdout",
     "output_type": "stream",
     "text": [
      "[[9.056119148256077, 2.810437421607375e-06], [5.931721486032733, 0.15477637437352326], [7.446873984173755, 0.0026307925420875873], [6.595130598570815, 0.034480842059029536], [6.992228907368114, 0.011370682836473186], [1.8736837814946028, 0.10428681589860285]]\n",
      ";\n"
     ]
    },
    {
     "data": {
      "text/plain": [
       "array([[1.00000000e+00, 9.05611915e+00, 2.81043742e-06],\n",
       "       [1.00000000e+00, 5.93172149e+00, 1.54776374e-01],\n",
       "       [1.00000000e+00, 7.44687398e+00, 2.63079254e-03],\n",
       "       [1.00000000e+00, 6.59513060e+00, 3.44808421e-02],\n",
       "       [1.00000000e+00, 6.99222891e+00, 1.13706828e-02],\n",
       "       [1.00000000e+00, 1.87368378e+00, 1.04286816e-01]])"
      ]
     },
     "execution_count": 85,
     "metadata": {},
     "output_type": "execute_result"
    }
   ],
   "source": [
    "x_test=X\n",
    "print(x_test)\n",
    "print(\";\")\n",
    "np.insert(x_test, 0, 1,axis=1)"
   ]
  },
  {
   "cell_type": "code",
   "execution_count": null,
   "metadata": {},
   "outputs": [],
   "source": []
  }
 ],
 "metadata": {
  "kernelspec": {
   "display_name": "Python 3",
   "language": "python",
   "name": "python3"
  },
  "language_info": {
   "codemirror_mode": {
    "name": "ipython",
    "version": 3
   },
   "file_extension": ".py",
   "mimetype": "text/x-python",
   "name": "python",
   "nbconvert_exporter": "python",
   "pygments_lexer": "ipython3",
   "version": "3.8.2"
  }
 },
 "nbformat": 4,
 "nbformat_minor": 4
}
